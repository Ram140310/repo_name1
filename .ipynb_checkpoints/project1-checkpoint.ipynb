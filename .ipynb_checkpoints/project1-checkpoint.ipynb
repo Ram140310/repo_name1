{
 "cells": [
  {
   "cell_type": "code",
   "execution_count": 1,
   "id": "29ae95b7",
   "metadata": {},
   "outputs": [
    {
     "name": "stdout",
     "output_type": "stream",
     "text": [
      "hello world\n"
     ]
    }
   ],
   "source": [
    " print('hello world')"
   ]
  },
  {
   "cell_type": "code",
   "execution_count": 2,
   "id": "f6f5f994",
   "metadata": {},
   "outputs": [],
   "source": [
    "def even_or_odd(num):\n",
    "    if num%2==0:\n",
    "        print('even ')\n",
    "    else:\n",
    "        print('odd ')"
   ]
  },
  {
   "cell_type": "code",
   "execution_count": 3,
   "id": "4d1fa7c2",
   "metadata": {},
   "outputs": [
    {
     "name": "stdout",
     "output_type": "stream",
     "text": [
      "odd \n"
     ]
    }
   ],
   "source": [
    "even_or_odd(23)"
   ]
  },
  {
   "cell_type": "code",
   "execution_count": 3,
   "id": "71c31f52",
   "metadata": {},
   "outputs": [],
   "source": [
    "def prime(num):\n",
    "    count=0\n",
    "    for i in range(1,num):\n",
    "        if num%i==0:\n",
    "            count=count+1\n",
    "    if count==1:\n",
    "        print('prime')\n",
    "    else:\n",
    "        print('not prime')"
   ]
  },
  {
   "cell_type": "code",
   "execution_count": 4,
   "id": "14e2d7e7",
   "metadata": {},
   "outputs": [
    {
     "name": "stdout",
     "output_type": "stream",
     "text": [
      "prime\n"
     ]
    }
   ],
   "source": [
    "prime(23)"
   ]
  },
  {
   "cell_type": "code",
   "execution_count": null,
   "id": "4d6c5f75",
   "metadata": {},
   "outputs": [],
   "source": []
  }
 ],
 "metadata": {
  "kernelspec": {
   "display_name": "Python 3 (ipykernel)",
   "language": "python",
   "name": "python3"
  },
  "language_info": {
   "codemirror_mode": {
    "name": "ipython",
    "version": 3
   },
   "file_extension": ".py",
   "mimetype": "text/x-python",
   "name": "python",
   "nbconvert_exporter": "python",
   "pygments_lexer": "ipython3",
   "version": "3.9.13"
  }
 },
 "nbformat": 4,
 "nbformat_minor": 5
}
